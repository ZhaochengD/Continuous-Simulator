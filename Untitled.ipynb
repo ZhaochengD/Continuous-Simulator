{
 "cells": [
  {
   "cell_type": "code",
   "execution_count": 1,
   "metadata": {},
   "outputs": [],
   "source": [
    "import numpy as np\n",
    "import matplotlib.pyplot as plt\n"
   ]
  },
  {
   "cell_type": "code",
   "execution_count": 3,
   "metadata": {},
   "outputs": [],
   "source": [
    "a = np.array([-1. ,  3.5,  3.5, -1. , -1. ])\n",
    "b = np.array([ 1.,  1., -1., -1.,  1.])"
   ]
  },
  {
   "cell_type": "code",
   "execution_count": 4,
   "metadata": {},
   "outputs": [
    {
     "data": {
      "text/plain": [
       "[<matplotlib.lines.Line2D at 0x7fa97440c978>]"
      ]
     },
     "execution_count": 4,
     "metadata": {},
     "output_type": "execute_result"
    },
    {
     "data": {
      "image/png": "[encoded data removed]",
      "text/plain": [
       "<Figure size 432x288 with 1 Axes>"
      ]
     },
     "metadata": {
      "needs_background": "light"
     },
     "output_type": "display_data"
    }
   ],
   "source": [
    "plt.plot(a, b)"
   ]
  },
  {
   "cell_type": "code",
   "execution_count": 1,
   "metadata": {},
   "outputs": [
    {
     "name": "stdout",
     "output_type": "stream",
     "text": [
      "-4.0\n",
      "5.5\n",
      "-2.5\n",
      "0.2\n"
     ]
    },
    {
     "data": {
      "text/plain": [
       "<Figure size 640x480 with 1 Axes>"
      ]
     },
     "metadata": {},
     "output_type": "display_data"
    },
    {
     "name": "stdout",
     "output_type": "stream",
     "text": [
      "[-4.15206955  4.84732018 -1.85836341 -0.02715   ]\n"
     ]
    }
   ],
   "source": [
    "import numpy as np\n",
    "import matplotlib.pyplot as plt\n",
    "\n",
    "# Calculate a polinomial value in a given point x\n",
    "def pol_calc(pol, x):\n",
    "    pol_f = np.poly1d(pol)\n",
    "    return(pol_f(x))\n",
    "\n",
    "# Create original line text equation for a plot legend\n",
    "def text_eq(pol):\n",
    "    str_eq = 'Original line\\ny = ' \n",
    "    j = 1\n",
    "    for i,p in enumerate(pol):\n",
    "        print(p)\n",
    "        str_eq += str(p)\n",
    "        order = len(pol)-j\n",
    "        if order > 1:\n",
    "            str_eq += ('x^'+str(order))\n",
    "            if pol[i+1] > 0:\n",
    "                str_eq += '+'\n",
    "        elif order > 0:\n",
    "            str_eq += ('x')\n",
    "            if pol[i+1] > 0:\n",
    "                str_eq += '+'\n",
    "        j += 1\n",
    "    return str_eq\n",
    "\n",
    "#Calculate approximated equidistant to a parabola\n",
    "EQUID_POINTS = 20 # Number of points to use for the equidistant approximation\n",
    "\n",
    "def equidistant(pol, d, max_l = 1, plot = False):\n",
    "    x_pol = np.linspace(0, max_l, num=EQUID_POINTS) # Reference curve points\n",
    "    y_pol = pol_calc(pol, x_pol)\n",
    "    x_m = [] # Mid points\n",
    "    y_m = []\n",
    "    k_m = []\n",
    "    # Calculate polints position between given points\n",
    "    for i in range(len(x_pol)-1):\n",
    "        y_m.append((y_pol[i+1]-y_pol[i])/2.0+y_pol[i])\n",
    "        x_m.append((x_pol[i+1]-x_pol[i])/2.0+x_pol[i])\n",
    "        # Slope of perpendicular lines\n",
    "        if y_pol[i+1] == y_pol[i]: #Avoid division by 0\n",
    "            k_m.append(1e8) # A vary big number\n",
    "        else:\n",
    "            k_m.append(-(x_pol[i+1]-x_pol[i])/(y_pol[i+1]-y_pol[i])) # Slope of a perpendicular\n",
    "    # Convert arrays into np.arrays\n",
    "    x_m = np.array(x_m)\n",
    "    y_m = np.array(y_m)\n",
    "    k_m = np.array(k_m)\n",
    "    # Calculate equidistant points\n",
    "    x_eq = d*np.sqrt(1.0/(1+k_m**2)) # Calculate reference shift dx of the equidistant points\n",
    "    y_eq = np.zeros_like(x_eq) # Create np.array for y_eq\n",
    "    if d >= 0: # x positions of the equidistant depends on direction\n",
    "        for i in range(len(y_m)):\n",
    "            if k_m[i] < 0: \n",
    "                x_eq[i] = x_m[i]-abs(x_eq[i])\n",
    "            else:\n",
    "                x_eq[i] = x_m[i]+abs(x_eq[i])\n",
    "            y_eq[i] = (y_m[i]-k_m[i]*x_m[i])+k_m[i]*x_eq[i]\n",
    "    else:\n",
    "        for i in range(len(y_m)):\n",
    "            if k_m[i] < 0:\n",
    "                x_eq[i] = x_m[i]+abs(x_eq[i])\n",
    "            else:\n",
    "                x_eq[i] = x_m[i]-abs(x_eq[i])\n",
    "            y_eq[i] = (y_m[i]-k_m[i]*x_m[i])+k_m[i]*x_eq[i]\n",
    "    # Fit a polinomial of order which is the same to the given one to the equidistant points \n",
    "    pol_eq = np.polyfit(x_eq, y_eq, len(pol)-1)\n",
    "    # Visualize results\n",
    "    if plot:\n",
    "        # Original line\n",
    "        plt.plot(x_pol, y_pol, color='red', linewidth=1, label = text_eq(pol)) \n",
    "        # Equidistant\n",
    "        plt.plot(x_eq, y_eq, color='green', linewidth=1, label = 'Equidistant, d = '+ str(d))\n",
    "        #Approximation\n",
    "        plt.plot(x_pol, pol_calc(pol_eq, x_pol), color='blue',\n",
    "                 linewidth=1, label = 'Approximation') \n",
    "        plt.legend() # Add legend\n",
    "        plt.axis('equal')\n",
    "        # Draw black connection lines\n",
    "        for i in range(len(x_m)):\n",
    "            plt.plot([x_m[i],x_eq[i]], [y_m[i],y_eq[i]], color='black', linewidth=1) \n",
    "        plt.show()\n",
    "        #plt.savefig('./equid.jpg')\n",
    "    return pol_eq\n",
    "\n",
    "# Use example\n",
    "pol = np.array([-4.0, 5.5,  -2.5,  0.2])\n",
    "print(equidistant(pol, -0.1, plot=True))"
   ]
  },
  {
   "cell_type": "code",
   "execution_count": null,
   "metadata": {},
   "outputs": [],
   "source": []
  }
 ],
 "metadata": {
  "kernelspec": {
   "display_name": "Python 3",
   "language": "python",
   "name": "python3"
  },
  "language_info": {
   "codemirror_mode": {
    "name": "ipython",
    "version": 3
   },
   "file_extension": ".py",
   "mimetype": "text/x-python",
   "name": "python",
   "nbconvert_exporter": "python",
   "pygments_lexer": "ipython3",
   "version": "3.7.3"
  }
 },
 "nbformat": 4,
 "nbformat_minor": 2
}
