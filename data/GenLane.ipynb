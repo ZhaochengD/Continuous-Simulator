{
 "cells": [
  {
   "cell_type": "code",
   "execution_count": 1,
   "metadata": {},
   "outputs": [],
   "source": [
    "import numpy as np\n",
    "import pandas as pd"
   ]
  },
  {
   "cell_type": "code",
   "execution_count": 4,
   "metadata": {},
   "outputs": [],
   "source": [
    "def gen_straight_lane(k, b):\n",
    "    '''\n",
    "    Input: k, the slope of straight lane\n",
    "    Output: a series of data points on lane\n",
    "    '''\n",
    "    x = np.arange(0, 1000, 1)\n",
    "    y = k * x - b\n",
    "    return np.array([x, y]).T"
   ]
  },
  {
   "cell_type": "code",
   "execution_count": 5,
   "metadata": {},
   "outputs": [],
   "source": [
    "def gen_cubed_lane(C):\n",
    "    '''\n",
    "    Input: C, the slope of cubed lane\n",
    "    Output: a series of data points on lane\n",
    "    '''\n",
    "    x = np.arange(0, 1000, 1)\n",
    "    y = x ** 3 / (6 * C)\n",
    "    return np.array([x, y]).T"
   ]
  },
  {
   "cell_type": "code",
   "execution_count": 6,
   "metadata": {},
   "outputs": [],
   "source": [
    "def gen_below_cubed_lane(C):\n",
    "    '''\n",
    "    Input: C, the slope of cubed lane\n",
    "    Output: a series of data points on lane\n",
    "    '''\n",
    "    x = np.arange(0, 1000, 1)\n",
    "    y = x ** 3 / (6 * C) - 3.5\n",
    "    return np.array([x, y]).T"
   ]
  },
  {
   "cell_type": "code",
   "execution_count": 7,
   "metadata": {},
   "outputs": [],
   "source": [
    "def save_road_file(data, filename):\n",
    "    '''\n",
    "    Input: - data, data array of x and y with shape [N,2]\n",
    "           - filename, the data will be saved\n",
    "    Output: save in a csv file\n",
    "    '''\n",
    "    df = pd.DataFrame(data, columns=['X-axis', 'Y-axis'])\n",
    "    df.to_csv(filename, index=None)"
   ]
  },
  {
   "cell_type": "code",
   "execution_count": 15,
   "metadata": {},
   "outputs": [],
   "source": [
    "d = gen_cubed_lane(10000)"
   ]
  },
  {
   "cell_type": "code",
   "execution_count": 16,
   "metadata": {},
   "outputs": [],
   "source": [
    "save_road_file(d, 'cubed.csv')"
   ]
  },
  {
   "cell_type": "code",
   "execution_count": 6,
   "metadata": {},
   "outputs": [],
   "source": [
    "d_n = gen_below_cubed_lane(10000)"
   ]
  },
  {
   "cell_type": "code",
   "execution_count": 9,
   "metadata": {},
   "outputs": [],
   "source": [
    "save_road_file(d_n, 'cubed_below.csv')"
   ]
  },
  {
   "cell_type": "code",
   "execution_count": null,
   "metadata": {},
   "outputs": [],
   "source": []
  },
  {
   "cell_type": "code",
   "execution_count": 8,
   "metadata": {},
   "outputs": [],
   "source": [
    "d = gen_straight_lane(0, 0)"
   ]
  },
  {
   "cell_type": "code",
   "execution_count": 9,
   "metadata": {},
   "outputs": [],
   "source": [
    "save_road_file(d, 'straight.csv')"
   ]
  },
  {
   "cell_type": "code",
   "execution_count": 10,
   "metadata": {},
   "outputs": [],
   "source": [
    "d_n = gen_straight_lane(0, -3.5)"
   ]
  },
  {
   "cell_type": "code",
   "execution_count": 11,
   "metadata": {},
   "outputs": [],
   "source": [
    "save_road_file(d_n, 'straight_below.csv')"
   ]
  },
  {
   "cell_type": "code",
   "execution_count": null,
   "metadata": {},
   "outputs": [],
   "source": []
  }
 ],
 "metadata": {
  "kernelspec": {
   "display_name": "Python 3",
   "language": "python",
   "name": "python3"
  },
  "language_info": {
   "codemirror_mode": {
    "name": "ipython",
    "version": 3
   },
   "file_extension": ".py",
   "mimetype": "text/x-python",
   "name": "python",
   "nbconvert_exporter": "python",
   "pygments_lexer": "ipython3",
   "version": "3.7.3"
  }
 },
 "nbformat": 4,
 "nbformat_minor": 2
}
